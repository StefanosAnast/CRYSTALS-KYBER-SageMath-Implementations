{
 "cells": [
  {
   "cell_type": "code",
   "execution_count": 1,
   "id": "b0704d16-a481-4ef4-be54-abc26a2e36ae",
   "metadata": {},
   "outputs": [],
   "source": [
    "# CRYSTALS-KYBER PKE Step-by-Step Implementation - Simple (without the CCA transform, NTT, and symmetric primitives)\n",
    "#\n",
    "# Thesis: CRYSTALS-KYBER: Post-Quantum Secure Encryption\n",
    "# By Stefanos Anastasiades\n",
    "#\n",
    "# School of Informatics\n",
    "# Aristotle University of Thessaloniki\n",
    "# Supervisor: Konstantinos Draziotis\n",
    "# February 2025"
   ]
  },
  {
   "cell_type": "code",
   "execution_count": 2,
   "id": "8cb76e67-f6a8-4163-89b8-f7918ecfcdd0",
   "metadata": {},
   "outputs": [
    {
     "name": "stdout",
     "output_type": "stream",
     "text": [
      "KYBER Parameters:\n",
      "- Polynomial Degree: n = 256\n",
      "- Modulus: q = 3329\n",
      "- Module Rank: k = 2\n",
      "- Error Parameters: eta1 = 3, eta2 = 2\n"
     ]
    }
   ],
   "source": [
    "# 1. Parameter Setup\n",
    "#\n",
    "# KYBER512 Parameters:\n",
    "# - Polynomial Degree n = 256\n",
    "# - Modulus q = 3329\n",
    "# - Module Rank k = 2\n",
    "# - Error Parameters η1 = 3, η2 = 2\n",
    "#\n",
    "# KYBER768 Parameters:\n",
    "# - Polynomial Degree n = 256\n",
    "# - Modulus q = 3329\n",
    "# - Module Rank k = 3\n",
    "# - Error Parameters η1 = 2, η2 = 2\n",
    "#\n",
    "# KYBER1024 Parameters:\n",
    "# - Polynomial Degree n = 256\n",
    "# - Modulus q = 3329\n",
    "# - Module Rank k = 4\n",
    "# - Error Parameters η1 = 2, η2 = 2\n",
    "\n",
    "n = 256\n",
    "q = 3329\n",
    "k = 2\n",
    "eta1 = 3\n",
    "eta2 = 2\n",
    "\n",
    "print(f\"KYBER Parameters:\\n- Polynomial Degree: n = {n}\\n- Modulus: q = {q}\\n- Module Rank: k = {k}\\n- Error Parameters: eta1 = {eta1}, eta2 = {eta2}\")"
   ]
  },
  {
   "cell_type": "code",
   "execution_count": 3,
   "id": "11bd4285-c005-419a-97d3-2a556c821ca6",
   "metadata": {},
   "outputs": [
    {
     "name": "stdout",
     "output_type": "stream",
     "text": [
      "Sample polynomial: 3317*xbar^255 + 2736*xbar^254 + 1938*xbar^253 + 2227*xbar^252 + 1000*xbar^251 + 448*xbar^250 + 1653*xbar^249 + 1324*xbar^248 + 305*xbar^247 + 1099*xbar^246 + 402*xbar^245 + 1810*xbar^244 + 2842*xbar^243 + 3283*xbar^242 + 2328*xbar^241 + 677*xbar^240 + 3039*xbar^239 + 373*xbar^238 + 2768*xbar^237 + 709*xbar^236 + 2128*xbar^235 + 3115*xbar^234 + 1417*xbar^233 + 877*xbar^232 + 628*xbar^231 + 2714*xbar^230 + 2602*xbar^229 + 94*xbar^228 + 3223*xbar^227 + 746*xbar^226 + 3144*xbar^225 + 1513*xbar^224 + 1023*xbar^223 + 95*xbar^222 + 307*xbar^221 + 395*xbar^220 + 2616*xbar^219 + 2386*xbar^218 + 261*xbar^217 + 389*xbar^216 + 191*xbar^215 + 1390*xbar^214 + 2765*xbar^213 + 2463*xbar^212 + 2357*xbar^211 + 2120*xbar^210 + 2595*xbar^209 + 564*xbar^208 + 3103*xbar^207 + 1574*xbar^206 + 2727*xbar^205 + 836*xbar^204 + 606*xbar^203 + 780*xbar^202 + 2186*xbar^201 + 1048*xbar^200 + 1313*xbar^199 + 2225*xbar^198 + 1521*xbar^197 + 1125*xbar^196 + 2491*xbar^195 + 137*xbar^194 + 2177*xbar^193 + 911*xbar^192 + 3202*xbar^191 + 2257*xbar^190 + 1778*xbar^189 + 2184*xbar^188 + 2155*xbar^187 + 1021*xbar^186 + 2993*xbar^185 + 1993*xbar^184 + 2514*xbar^183 + 2212*xbar^182 + 2146*xbar^181 + 522*xbar^180 + 3065*xbar^179 + 2645*xbar^178 + 1140*xbar^177 + 2478*xbar^176 + 2079*xbar^175 + 1240*xbar^174 + 1438*xbar^173 + 1527*xbar^172 + 35*xbar^171 + 2860*xbar^170 + 335*xbar^169 + 429*xbar^168 + 599*xbar^167 + 838*xbar^166 + 1286*xbar^165 + 2293*xbar^164 + 1632*xbar^163 + 468*xbar^162 + 911*xbar^161 + 976*xbar^160 + 2158*xbar^159 + 221*xbar^158 + 1343*xbar^157 + 3262*xbar^156 + 2581*xbar^155 + 1554*xbar^154 + 2417*xbar^153 + 3222*xbar^152 + 162*xbar^151 + 1022*xbar^150 + 178*xbar^149 + 2279*xbar^148 + 1091*xbar^147 + 337*xbar^146 + 272*xbar^145 + 1764*xbar^144 + 2362*xbar^143 + 1346*xbar^142 + 2659*xbar^141 + 215*xbar^140 + 2723*xbar^139 + 1049*xbar^138 + 1851*xbar^137 + 855*xbar^136 + 64*xbar^135 + 1381*xbar^134 + 1532*xbar^133 + 2553*xbar^132 + 2452*xbar^131 + 1829*xbar^130 + 2281*xbar^129 + 2955*xbar^128 + 827*xbar^127 + 1486*xbar^126 + 3132*xbar^125 + 3222*xbar^124 + 831*xbar^123 + 3142*xbar^122 + 744*xbar^121 + 2050*xbar^120 + 697*xbar^119 + 2439*xbar^118 + 1641*xbar^117 + 793*xbar^116 + 1889*xbar^115 + 3113*xbar^114 + 3255*xbar^113 + 2403*xbar^112 + 3321*xbar^111 + 2879*xbar^110 + 1265*xbar^109 + 948*xbar^108 + 1084*xbar^107 + 3204*xbar^106 + 1838*xbar^105 + 1784*xbar^104 + 978*xbar^103 + 3152*xbar^102 + 255*xbar^101 + 1618*xbar^100 + 2003*xbar^99 + 1306*xbar^98 + 2946*xbar^97 + 3241*xbar^96 + 3042*xbar^95 + 1780*xbar^94 + 776*xbar^93 + 731*xbar^92 + 1887*xbar^91 + 1076*xbar^90 + 108*xbar^89 + 1683*xbar^88 + 2486*xbar^87 + 2938*xbar^86 + 2679*xbar^85 + 1658*xbar^84 + 2542*xbar^83 + 2851*xbar^82 + 1556*xbar^81 + 714*xbar^80 + 713*xbar^79 + 1201*xbar^78 + 1615*xbar^77 + 1948*xbar^76 + 2603*xbar^75 + 1899*xbar^74 + 1345*xbar^73 + 3259*xbar^72 + 1096*xbar^71 + 2650*xbar^70 + 1362*xbar^69 + 1790*xbar^68 + 555*xbar^67 + 2138*xbar^66 + 2983*xbar^65 + 1291*xbar^64 + 1889*xbar^63 + 1082*xbar^62 + 1552*xbar^61 + 92*xbar^60 + 125*xbar^59 + 2301*xbar^58 + 760*xbar^57 + 128*xbar^56 + 2836*xbar^55 + 1174*xbar^54 + 606*xbar^53 + 18*xbar^52 + 2566*xbar^51 + 76*xbar^50 + 166*xbar^49 + 2952*xbar^48 + 2118*xbar^47 + 429*xbar^46 + 2541*xbar^45 + 2686*xbar^44 + 1614*xbar^43 + 754*xbar^42 + 1094*xbar^41 + 2340*xbar^40 + 2944*xbar^39 + 2364*xbar^38 + 1095*xbar^37 + 2573*xbar^36 + 728*xbar^35 + 2938*xbar^34 + 122*xbar^33 + 2811*xbar^32 + 2163*xbar^31 + 591*xbar^30 + 213*xbar^29 + 1978*xbar^28 + 956*xbar^27 + 2497*xbar^26 + 932*xbar^25 + 3160*xbar^24 + 19*xbar^23 + 1818*xbar^22 + 1297*xbar^21 + 2172*xbar^20 + 121*xbar^19 + 1058*xbar^18 + 3222*xbar^17 + 1233*xbar^16 + 602*xbar^15 + 2527*xbar^14 + 1063*xbar^13 + 1162*xbar^12 + 1154*xbar^11 + 2907*xbar^10 + 898*xbar^9 + 432*xbar^8 + 2435*xbar^7 + 2466*xbar^6 + 462*xbar^5 + 2263*xbar^4 + 426*xbar^3 + 1102*xbar^2 + 2972*xbar + 361\n"
     ]
    }
   ],
   "source": [
    "# 2. Polynomial Ring Setup\n",
    "#\n",
    "# We work in the polynomial ring Rq = Zq[x]/[x^n + 1]\n",
    "\n",
    "Zq = IntegerModRing(q)\n",
    "R.<x> = PolynomialRing(Zq)\n",
    "QR.<xbar> = R.quotient(x^n + 1)  # Quotient ring\n",
    "\n",
    "print(\"Sample polynomial:\", QR.random_element())"
   ]
  },
  {
   "cell_type": "code",
   "execution_count": 4,
   "id": "8159e2be-e508-48ca-bd89-6adde9c8cdd9",
   "metadata": {},
   "outputs": [
    {
     "name": "stdout",
     "output_type": "stream",
     "text": [
      "Sampled polynomial coefficients: [0, 0, 3328, 0, 1, 1, 1, 2, 0, 1, 3328, 1, 3327, 2, 0, 1, 1, 0, 0, 1, 0, 3327, 3328, 3328, 0, 1, 1, 3328, 3328, 3328, 2, 2, 1, 1, 2, 0, 2, 0, 1, 3328, 1, 3328, 3327, 0, 0, 0, 3327, 3327, 3328, 0, 1, 0, 3326, 1, 1, 1, 1, 3328, 0, 2, 3328, 1, 3327, 3328, 3328, 3327, 2, 3328, 3328, 0, 3327, 0, 3328, 0, 1, 3326, 2, 1, 0, 1, 0, 0, 3328, 2, 0, 3328, 3328, 0, 1, 1, 3328, 0, 1, 0, 0, 0, 0, 1, 1, 0, 3328, 2, 3326, 0, 1, 1, 3, 3328, 1, 3327, 1, 2, 1, 3328, 1, 3328, 0, 3327, 0, 2, 0, 1, 2, 0, 3328, 0, 1, 0, 0, 1, 2, 3327, 0, 3327, 1, 0, 3328, 3328, 0, 3328, 0, 3, 1, 2, 0, 0, 0, 3327, 3327, 3328, 3328, 2, 0, 0, 1, 1, 3328, 3328, 2, 2, 3, 2, 3327, 3328, 3328, 3, 1, 0, 0, 3328, 3328, 0, 1, 3327, 0, 3328, 3328, 0, 1, 0, 2, 0, 1, 0, 3328, 3328, 3327, 3328, 1, 0, 3327, 0, 0, 3326, 2, 2, 0, 2, 1, 2, 1, 0, 3328, 1, 3328, 0, 3328, 0, 1, 1, 0, 0, 0, 1, 0, 1, 0, 3328, 0, 3, 3328, 3328, 3327, 0, 0, 0, 1, 1, 3327, 1, 1, 2, 1, 3328, 0, 1, 3328, 0, 1, 1, 2, 1, 0, 3327, 0, 1, 3328, 3326, 0, 1, 3328, 3327, 1, 3328, 1, 0]\n"
     ]
    }
   ],
   "source": [
    "# 3. Center Binomial Sampling (CBD)\n",
    "#\n",
    "# Used for error generation in KYBER\n",
    "\n",
    "# Sample polynomial coefficients from centered binomial distribution (CBD)\n",
    "def sample_binomial(eta):\n",
    "    coefficients = []\n",
    "    for _ in range(n):\n",
    "        a = sum(randint(0, 1) for _ in range(eta))\n",
    "        b = sum(randint(0, 1) for _ in range(eta))\n",
    "        coefficient = Zq(a - b)\n",
    "        coefficients.append(coefficient)\n",
    "    return QR(coefficients)\n",
    "\n",
    "# Test sampling\n",
    "test_sampling = sample_binomial(eta1)\n",
    "print(\"Sampled polynomial coefficients:\", test_sampling.list())"
   ]
  },
  {
   "cell_type": "code",
   "execution_count": 5,
   "id": "cbe21e60-476a-40ff-a196-ba1bab79b87a",
   "metadata": {},
   "outputs": [
    {
     "name": "stdout",
     "output_type": "stream",
     "text": [
      "Original bits: [0, 1, 0, 1, 1, 0, 0, 0, 0, 0, 0, 0, 0, 0, 0, 0, 0, 0, 0, 0, 0, 0, 0, 0, 0, 0, 0, 0, 0, 0, 0, 0, 0, 0, 0, 0, 0, 0, 0, 0, 0, 0, 0, 0, 0, 0, 0, 0, 0, 0, 0, 0, 0, 0, 0, 0, 0, 0, 0, 0, 0, 0, 0, 0, 0, 0, 0, 0, 0, 0, 0, 0, 0, 0, 0, 0, 0, 0, 0, 0, 0, 0, 0, 0, 0, 0, 0, 0, 0, 0, 0, 0, 0, 0, 0, 0, 0, 0, 0, 0, 0, 0, 0, 0, 0, 0, 0, 0, 0, 0, 0, 0, 0, 0, 0, 0, 0, 0, 0, 0, 0, 0, 0, 0, 0, 0, 0, 0, 0, 0, 0, 0, 0, 0, 0, 0, 0, 0, 0, 0, 0, 0, 0, 0, 0, 0, 0, 0, 0, 0, 0, 0, 0, 0, 0, 0, 0, 0, 0, 0, 0, 0, 0, 0, 0, 0, 0, 0, 0, 0, 0, 0, 0, 0, 0, 0, 0, 0, 0, 0, 0, 0, 0, 0, 0, 0, 0, 0, 0, 0, 0, 0, 0, 0, 0, 0, 0, 0, 0, 0, 0, 0, 0, 0, 0, 0, 0, 0, 0, 0, 0, 0, 0, 0, 0, 0, 0, 0, 0, 0, 0, 0, 0, 0, 0, 0, 0, 0, 0, 0, 0, 0, 0, 0, 0, 0, 0, 0, 0, 0, 0, 0, 0, 0, 0, 0, 0, 0, 0, 0, 0, 0, 0, 0, 0, 0]\n",
      "Decoded bits: [0, 1, 0, 1, 1, 0, 0, 0, 0, 0, 0, 0, 0, 0, 0, 0, 0, 0, 0, 0, 0, 0, 0, 0, 0, 0, 0, 0, 0, 0, 0, 0, 0, 0, 0, 0, 0, 0, 0, 0, 0, 0, 0, 0, 0, 0, 0, 0, 0, 0, 0, 0, 0, 0, 0, 0, 0, 0, 0, 0, 0, 0, 0, 0, 0, 0, 0, 0, 0, 0, 0, 0, 0, 0, 0, 0, 0, 0, 0, 0, 0, 0, 0, 0, 0, 0, 0, 0, 0, 0, 0, 0, 0, 0, 0, 0, 0, 0, 0, 0, 0, 0, 0, 0, 0, 0, 0, 0, 0, 0, 0, 0, 0, 0, 0, 0, 0, 0, 0, 0, 0, 0, 0, 0, 0, 0, 0, 0, 0, 0, 0, 0, 0, 0, 0, 0, 0, 0, 0, 0, 0, 0, 0, 0, 0, 0, 0, 0, 0, 0, 0, 0, 0, 0, 0, 0, 0, 0, 0, 0, 0, 0, 0, 0, 0, 0, 0, 0, 0, 0, 0, 0, 0, 0, 0, 0, 0, 0, 0, 0, 0, 0, 0, 0, 0, 0, 0, 0, 0, 0, 0, 0, 0, 0, 0, 0, 0, 0, 0, 0, 0, 0, 0, 0, 0, 0, 0, 0, 0, 0, 0, 0, 0, 0, 0, 0, 0, 0, 0, 0, 0, 0, 0, 0, 0, 0, 0, 0, 0, 0, 0, 0, 0, 0, 0, 0, 0, 0, 0, 0, 0, 0, 0, 0, 0, 0, 0, 0, 0, 0, 0, 0, 0, 0, 0, 0]\n"
     ]
    }
   ],
   "source": [
    "# 4. Message Encoding/Decoding\n",
    "#\n",
    "# - Encode bits to polynomial using q/2 scaling\n",
    "# - Decode using threshold rounding\n",
    "\n",
    "# Encode 256-bit message to polynomial\n",
    "def encode_message(bits):\n",
    "    return QR([Zq(b * (q // 2)) for b in bits])\n",
    "\n",
    "# Decode polynomial to 256-bit message\n",
    "def decode_message(polynomial):\n",
    "    half_q = q // 2\n",
    "    threshold = q // 4\n",
    "    bits = []\n",
    "    for coefficient in polynomial.list():\n",
    "        c = Integer(coefficient)\n",
    "        distance = min((c - half_q) % q, (half_q - c) % q)\n",
    "        bits.append(1 if distance < threshold else 0)\n",
    "    return bits\n",
    "\n",
    "# Test encoding/decoding\n",
    "test_bits = [0,1,0,1,1] + [0]*(n-5)\n",
    "test_polynomial = encode_message(test_bits)\n",
    "decoded_bits = decode_message(test_polynomial)\n",
    "print(\"Original bits:\", test_bits)\n",
    "print(\"Decoded bits:\", decoded_bits)"
   ]
  },
  {
   "cell_type": "code",
   "execution_count": 6,
   "id": "3bd4438d-69b6-4b45-a01c-eb6857a42b11",
   "metadata": {},
   "outputs": [
    {
     "name": "stdout",
     "output_type": "stream",
     "text": [
      "Public key matrix A dimensions: (2, 2)\n",
      "Secret key s dimensions: (2, 1)\n",
      "First element of t: [1569, 1172, 2160, 1297, 1179, 1710, 2497, 1734, 3271, 1335, 3023, 2358, 369, 949, 653, 325, 1801, 1959, 2363, 84, 1751, 3317, 3201, 2251, 1989, 3017, 1871, 3003, 293, 2032, 3002, 428, 3257, 3216, 929, 1775, 1419, 1891, 3219, 1486, 915, 2232, 241, 2791, 791, 2687, 1583, 1237, 465, 1905, 423, 1828, 850, 1560, 1584, 2818, 2286, 2026, 417, 2933, 158, 1847, 1795, 2664, 2172, 188, 3033, 474, 352, 2842, 949, 2122, 1183, 174, 3205, 3085, 1270, 327, 2236, 1239, 2103, 880, 213, 99, 1169, 46, 1612, 1106, 488, 936, 1902, 1731, 2228, 1809, 273, 2522, 1174, 90, 394, 438, 1087, 1091, 1115, 2191, 2491, 502, 1784, 1859, 334, 1148, 266, 1548, 670, 2467, 45, 2093, 2797, 2731, 3321, 2744, 1955, 2820, 3181, 1759, 1947, 1623, 1550, 3112, 3220, 22, 1862, 1305, 1224, 1543, 297, 3148, 2905, 2011, 2422, 1265, 2073, 2819, 2209, 189, 2061, 2453, 2879, 1647, 1387, 1908, 257, 1311, 2051, 2121, 2183, 107, 678, 598, 887, 1151, 1665, 2651, 2768, 3244, 1828, 2860, 455, 2374, 1810, 387, 507, 3309, 246, 2282, 2043, 2243, 1059, 3103, 2618, 2553, 1430, 2409, 430, 2047, 307, 2654, 2749, 179, 1121, 1315, 3114, 62, 491, 2861, 1124, 1678, 2093, 1017, 195, 2251, 1534, 2994, 3081, 609, 1770, 2032, 3273, 1904, 3010, 921, 1920, 1824, 2620, 1209, 761, 518, 1999, 3054, 1321, 1219, 201, 1036, 2528, 826, 2008, 1449, 2188, 948, 2116, 161, 2917, 2141, 1560, 532, 2686, 1235, 1723, 3267, 1953, 3185, 1838, 2683, 2170, 951, 2157, 2108, 364, 751, 3052, 504, 1049, 22, 1707, 2436, 1608, 1175] ...\n"
     ]
    }
   ],
   "source": [
    "# 5. Key Generation\n",
    "#\n",
    "# Generates:\n",
    "# - Public key: (A, t)\n",
    "# - Secret key: s\n",
    "\n",
    "def keygen():\n",
    "    # Generate random matrix A\n",
    "    A = matrix(QR, k, k, [QR.random_element() for _ in range(k * k)])\n",
    "\n",
    "    # Generate secret vector s and error vector e\n",
    "    s = matrix(QR, k, 1, [sample_binomial(eta1) for _ in range(k)])\n",
    "    e = matrix(QR, k, 1, [sample_binomial(eta1) for _ in range(k)])\n",
    "\n",
    "    # Compute t = A*s + e\n",
    "    t = A * s + e\n",
    "    return (A, t), s\n",
    "\n",
    "# Generate keys\n",
    "pk, sk = keygen()\n",
    "A, t = pk\n",
    "s = sk\n",
    "\n",
    "print(\"Public key matrix A dimensions:\", A.dimensions())\n",
    "print(\"Secret key s dimensions:\", s.dimensions())\n",
    "print(\"First element of t:\", t[0,0].list(), \"...\")"
   ]
  },
  {
   "cell_type": "code",
   "execution_count": 7,
   "id": "c9a92694-8019-408c-957a-4dc15abb53c4",
   "metadata": {},
   "outputs": [
    {
     "name": "stdout",
     "output_type": "stream",
     "text": [
      "Ciphertext component u dimensions: (2, 1)\n",
      "All coefficients of v: [349, 1370, 2692, 2708, 1452, 463, 1208, 282, 220, 1562, 2239, 3291, 1556, 2786, 331, 2794, 2543, 1424, 848, 1396, 732, 86, 3198, 1060, 3100, 1198, 1656, 2011, 1461, 564, 1049, 857, 2940, 2541, 154, 1616, 3060, 781, 1734, 690, 571, 253, 2728, 917, 2276, 3086, 2071, 147, 2622, 2341, 864, 3065, 1222, 939, 954, 3036, 1884, 1410, 460, 740, 874, 2689, 2874, 1854, 84, 1037, 2282, 647, 1659, 2961, 1684, 862, 547, 1259, 1009, 1771, 132, 587, 3124, 1851, 1552, 2036, 1129, 1346, 1354, 1810, 1978, 1280, 2910, 2964, 1689, 2869, 1587, 2781, 434, 391, 3044, 86, 792, 1630, 565, 1211, 1687, 1578, 930, 432, 1452, 1751, 65, 2581, 1455, 2896, 2987, 2644, 3205, 1173, 2199, 3039, 2607, 2698, 2311, 90, 2128, 2741, 2077, 1269, 3137, 1071, 2407, 1257, 502, 2494, 1434, 988, 2174, 1015, 3041, 731, 806, 3220, 955, 755, 923, 2474, 1371, 2001, 1568, 196, 1222, 2921, 850, 1047, 3291, 1589, 1229, 3098, 1161, 2912, 1066, 2479, 419, 1970, 1411, 902, 2463, 2151, 524, 3046, 27, 1580, 2459, 2512, 2984, 622, 1739, 3290, 3058, 212, 75, 1869, 2146, 2342, 966, 71, 2383, 2762, 2959, 1464, 2335, 2304, 1870, 1168, 2237, 991, 2982, 2674, 1602, 1683, 1898, 744, 680, 1372, 426, 2753, 551, 243, 208, 3256, 2773, 1323, 3155, 876, 1922, 911, 2165, 1467, 542, 2495, 1327, 1136, 2444, 1742, 1802, 2689, 3066, 692, 2318, 2390, 2340, 5, 3323, 1727, 3325, 615, 173, 139, 2599, 2091, 644, 871, 1116, 910, 1925, 110, 792, 364, 2248, 626, 956, 717, 1662, 1020, 2294, 3224, 748, 1981]\n"
     ]
    }
   ],
   "source": [
    "# 6. Encryption Process\n",
    "#\n",
    "# Encrypts message m into ciphertext (u, v)\n",
    "\n",
    "def encrypt(pk, m_bits):\n",
    "    A, t = pk\n",
    "    m = encode_message(m_bits)\n",
    "\n",
    "    r = matrix(QR, k, 1, [sample_binomial(eta2) for _ in range(k)])\n",
    "    e1 = matrix(QR, k, 1, [sample_binomial(eta2) for _ in range(k)])\n",
    "    e2 = sample_binomial(eta2)\n",
    "\n",
    "    u = A.transpose() * r + e1\n",
    "    v = (t.transpose() * r)[0,0] + e2 + m\n",
    "    return (u, v)\n",
    "\n",
    "# Test encryption\n",
    "message = [randint(0, 1) for _ in range(n)]\n",
    "ct = encrypt(pk, message)\n",
    "u, v = ct\n",
    "\n",
    "print(\"Ciphertext component u dimensions:\", u.dimensions())\n",
    "print(\"All coefficients of v:\", v.list())"
   ]
  },
  {
   "cell_type": "code",
   "execution_count": 8,
   "id": "66265973-9d58-4e38-9e9d-570fb24ba34f",
   "metadata": {},
   "outputs": [
    {
     "name": "stdout",
     "output_type": "stream",
     "text": [
      "Decryption errors: 0\n",
      "Sample original bits: [1, 0, 0, 0, 0, 0, 1, 0, 1, 0, 1, 0, 0, 1, 1, 0, 1, 1, 0, 0, 1, 1, 1, 0, 1, 1, 0, 0, 0, 0, 0, 0, 0, 1, 1, 1, 0, 0, 1, 1, 0, 0, 1, 0, 1, 1, 1, 1, 1, 1, 0, 1, 0, 1, 0, 0, 1, 1, 0, 1, 0, 1, 1, 1, 0, 1, 0, 0, 0, 0, 0, 1, 0, 0, 1, 1, 1, 1, 1, 0, 1, 0, 1, 1, 1, 1, 1, 0, 1, 0, 0, 1, 1, 0, 1, 0, 0, 1, 0, 0, 1, 1, 1, 0, 1, 0, 1, 0, 1, 1, 1, 1, 0, 0, 1, 0, 1, 1, 0, 1, 1, 0, 0, 0, 1, 1, 1, 1, 0, 1, 1, 1, 1, 1, 1, 0, 1, 0, 1, 1, 1, 1, 0, 0, 1, 0, 0, 1, 0, 0, 1, 1, 0, 0, 1, 0, 0, 0, 1, 0, 1, 1, 0, 0, 1, 1, 1, 0, 0, 1, 1, 0, 0, 1, 0, 1, 0, 0, 0, 1, 0, 1, 0, 1, 1, 0, 0, 1, 1, 1, 0, 0, 0, 0, 1, 1, 1, 0, 1, 0, 1, 1, 1, 1, 1, 1, 1, 0, 0, 1, 0, 1, 1, 0, 0, 0, 0, 0, 1, 1, 1, 1, 1, 0, 1, 1, 1, 1, 1, 1, 1, 1, 0, 0, 0, 0, 0, 0, 0, 1, 1, 1, 0, 1, 1, 1, 0, 0, 1, 0, 0, 0, 0, 1, 1, 0]\n",
      "Sample decrypted bits: [1, 0, 0, 0, 0, 0, 1, 0, 1, 0, 1, 0, 0, 1, 1, 0, 1, 1, 0, 0, 1, 1, 1, 0, 1, 1, 0, 0, 0, 0, 0, 0, 0, 1, 1, 1, 0, 0, 1, 1, 0, 0, 1, 0, 1, 1, 1, 1, 1, 1, 0, 1, 0, 1, 0, 0, 1, 1, 0, 1, 0, 1, 1, 1, 0, 1, 0, 0, 0, 0, 0, 1, 0, 0, 1, 1, 1, 1, 1, 0, 1, 0, 1, 1, 1, 1, 1, 0, 1, 0, 0, 1, 1, 0, 1, 0, 0, 1, 0, 0, 1, 1, 1, 0, 1, 0, 1, 0, 1, 1, 1, 1, 0, 0, 1, 0, 1, 1, 0, 1, 1, 0, 0, 0, 1, 1, 1, 1, 0, 1, 1, 1, 1, 1, 1, 0, 1, 0, 1, 1, 1, 1, 0, 0, 1, 0, 0, 1, 0, 0, 1, 1, 0, 0, 1, 0, 0, 0, 1, 0, 1, 1, 0, 0, 1, 1, 1, 0, 0, 1, 1, 0, 0, 1, 0, 1, 0, 0, 0, 1, 0, 1, 0, 1, 1, 0, 0, 1, 1, 1, 0, 0, 0, 0, 1, 1, 1, 0, 1, 0, 1, 1, 1, 1, 1, 1, 1, 0, 0, 1, 0, 1, 1, 0, 0, 0, 0, 0, 1, 1, 1, 1, 1, 0, 1, 1, 1, 1, 1, 1, 1, 1, 0, 0, 0, 0, 0, 0, 0, 1, 1, 1, 0, 1, 1, 1, 0, 0, 1, 0, 0, 0, 0, 1, 1, 0]\n"
     ]
    }
   ],
   "source": [
    "# 7. Decryption Process\n",
    "#\n",
    "# Recovers message from ciphertext using secret key\n",
    "\n",
    "def decrypt(sk, ct):\n",
    "    s = sk\n",
    "    u, v = ct\n",
    "    m_prime = v - (s.transpose() * u)[0,0]\n",
    "    return decode_message(m_prime)\n",
    "\n",
    "# Test decryption\n",
    "decrypted_bits = decrypt(sk, ct)\n",
    "\n",
    "# Check correctness\n",
    "errors = sum(1 for o,d in zip(message, decrypted_bits) if o != d)\n",
    "print(\"Decryption errors:\", errors)\n",
    "print(\"Sample original bits:\", message)\n",
    "print(\"Sample decrypted bits:\", decrypted_bits)"
   ]
  },
  {
   "cell_type": "code",
   "execution_count": 9,
   "id": "65862ee9-d1bd-4436-9755-a847b28cdaba",
   "metadata": {},
   "outputs": [
    {
     "name": "stdout",
     "output_type": "stream",
     "text": [
      "Original message: [0, 1, 1, 0, 1, 0, 1, 0, 0, 0, 0, 1, 1, 0, 1, 1, 0, 0, 0, 0, 0, 0, 0, 1, 1, 0, 1, 1, 0, 0, 1, 0, 1, 0, 0, 1, 1, 0, 0, 0, 0, 0, 1, 0, 0, 0, 0, 1, 0, 1, 1, 0, 0, 1, 1, 1, 1, 0, 0, 1, 0, 1, 0, 0, 0, 0, 1, 0, 0, 0, 0, 1, 0, 1, 0, 1, 1, 0, 0, 1, 0, 0, 0, 1, 1, 0, 1, 0, 1, 1, 0, 1, 0, 0, 1, 0, 0, 1, 1, 1, 1, 1, 0, 0, 1, 1, 0, 1, 1, 0, 0, 0, 0, 1, 0, 1, 0, 1, 1, 0, 1, 0, 0, 0, 1, 1, 0, 1, 0, 1, 1, 0, 0, 1, 0, 0, 1, 0, 0, 1, 1, 1, 1, 1, 0, 0, 1, 0, 0, 0, 1, 0, 0, 1, 1, 0, 1, 0, 0, 0, 0, 1, 1, 0, 1, 1, 0, 1, 0, 0, 1, 0, 0, 1, 1, 0, 0, 1, 0, 1, 0, 1, 0, 1, 1, 1, 0, 0, 0, 1, 0, 1, 1, 1, 1, 1, 1, 0, 0, 1, 1, 1, 0, 0, 0, 0, 0, 0, 1, 1, 0, 0, 0, 1, 1, 1, 1, 1, 1, 1, 1, 1, 0, 1, 1, 0, 0, 0, 1, 1, 0, 0, 1, 0, 0, 1, 1, 0, 1, 0, 0, 0, 1, 0, 0, 1, 1, 1, 0, 0, 1, 0, 1, 0, 0, 1]\n",
      "Received message: [0, 1, 1, 0, 1, 0, 1, 0, 0, 0, 0, 1, 1, 0, 1, 1, 0, 0, 0, 0, 0, 0, 0, 1, 1, 0, 1, 1, 0, 0, 1, 0, 1, 0, 0, 1, 1, 0, 0, 0, 0, 0, 1, 0, 0, 0, 0, 1, 0, 1, 1, 0, 0, 1, 1, 1, 1, 0, 0, 1, 0, 1, 0, 0, 0, 0, 1, 0, 0, 0, 0, 1, 0, 1, 0, 1, 1, 0, 0, 1, 0, 0, 0, 1, 1, 0, 1, 0, 1, 1, 0, 1, 0, 0, 1, 0, 0, 1, 1, 1, 1, 1, 0, 0, 1, 1, 0, 1, 1, 0, 0, 0, 0, 1, 0, 1, 0, 1, 1, 0, 1, 0, 0, 0, 1, 1, 0, 1, 0, 1, 1, 0, 0, 1, 0, 0, 1, 0, 0, 1, 1, 1, 1, 1, 0, 0, 1, 0, 0, 0, 1, 0, 0, 1, 1, 0, 1, 0, 0, 0, 0, 1, 1, 0, 1, 1, 0, 1, 0, 0, 1, 0, 0, 1, 1, 0, 0, 1, 0, 1, 0, 1, 0, 1, 1, 1, 0, 0, 0, 1, 0, 1, 1, 1, 1, 1, 1, 0, 0, 1, 1, 1, 0, 0, 0, 0, 0, 0, 1, 1, 0, 0, 0, 1, 1, 1, 1, 1, 1, 1, 1, 1, 0, 1, 1, 0, 0, 0, 1, 1, 0, 0, 1, 0, 0, 1, 1, 0, 1, 0, 0, 0, 1, 0, 0, 1, 1, 1, 0, 0, 1, 0, 1, 0, 0, 1]\n",
      "\n",
      "Decryption successful? True\n"
     ]
    }
   ],
   "source": [
    "# 8. Full Workflow Example\n",
    "#\n",
    "# Putting all components together\n",
    "\n",
    "# Generate new key pair\n",
    "pk, sk = keygen()\n",
    "\n",
    "# Create random message\n",
    "original_message = [randint(0,1) for _ in range(n)]\n",
    "print(\"Original message:\", original_message)\n",
    "\n",
    "# Encrypt\n",
    "ciphertext = encrypt(pk, original_message)\n",
    "\n",
    "# Decrypt\n",
    "received_message = decrypt(sk, ciphertext)\n",
    "print(\"Received message:\", received_message)\n",
    "\n",
    "# Verification\n",
    "correct = all(o == r for o,r in zip(original_message, received_message))\n",
    "print(\"\\nDecryption successful?\", correct)"
   ]
  },
  {
   "cell_type": "code",
   "execution_count": null,
   "id": "06c995fd-5a0a-4fe5-ba69-1a6a5fee8ac4",
   "metadata": {},
   "outputs": [],
   "source": []
  }
 ],
 "metadata": {
  "kernelspec": {
   "display_name": "SageMath 10.5",
   "language": "sage",
   "name": "sagemath"
  },
  "language_info": {
   "codemirror_mode": {
    "name": "ipython",
    "version": 3
   },
   "file_extension": ".py",
   "mimetype": "text/x-python",
   "name": "python",
   "nbconvert_exporter": "python",
   "pygments_lexer": "ipython3",
   "version": "3.12.5"
  }
 },
 "nbformat": 4,
 "nbformat_minor": 5
}
